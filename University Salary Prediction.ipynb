{
 "cells": [
  {
   "cell_type": "code",
   "execution_count": 1,
   "id": "ef1196ef",
   "metadata": {},
   "outputs": [],
   "source": [
    "import numpy as np\n",
    "import pandas as pd\n",
    "\n",
    "from sklearn.preprocessing import OneHotEncoder, StandardScaler\n",
    "from sklearn.compose import ColumnTransformer\n",
    "from sklearn.pipeline import Pipeline\n",
    "from sklearn.model_selection import KFold\n",
    "\n",
    "from sklearn.linear_model import Ridge\n",
    "from sklearn.tree import DecisionTreeRegressor\n",
    "from sklearn.neural_network import MLPRegressor\n",
    "from sklearn.ensemble import RandomForestRegressor, GradientBoostingRegressor\n",
    "\n",
    "import warnings\n",
    "warnings.filterwarnings(action='ignore')"
   ]
  },
  {
   "cell_type": "code",
   "execution_count": 2,
   "id": "948cabcb",
   "metadata": {},
   "outputs": [],
   "source": [
    "data = pd.read_csv('salaries_final.csv')"
   ]
  },
  {
   "cell_type": "code",
   "execution_count": 3,
   "id": "0a648b43",
   "metadata": {},
   "outputs": [
    {
     "data": {
      "text/html": [
       "<div>\n",
       "<style scoped>\n",
       "    .dataframe tbody tr th:only-of-type {\n",
       "        vertical-align: middle;\n",
       "    }\n",
       "\n",
       "    .dataframe tbody tr th {\n",
       "        vertical-align: top;\n",
       "    }\n",
       "\n",
       "    .dataframe thead th {\n",
       "        text-align: right;\n",
       "    }\n",
       "</style>\n",
       "<table border=\"1\" class=\"dataframe\">\n",
       "  <thead>\n",
       "    <tr style=\"text-align: right;\">\n",
       "      <th></th>\n",
       "      <th>Year</th>\n",
       "      <th>Name</th>\n",
       "      <th>Primary Job Title</th>\n",
       "      <th>Base Pay</th>\n",
       "      <th>Department</th>\n",
       "      <th>College</th>\n",
       "    </tr>\n",
       "  </thead>\n",
       "  <tbody>\n",
       "    <tr>\n",
       "      <th>0</th>\n",
       "      <td>2010</td>\n",
       "      <td>Abaied, Jamie L.</td>\n",
       "      <td>Assistant Professor</td>\n",
       "      <td>64000.0</td>\n",
       "      <td>Department of Psychological Science</td>\n",
       "      <td>CAS</td>\n",
       "    </tr>\n",
       "    <tr>\n",
       "      <th>1</th>\n",
       "      <td>2011</td>\n",
       "      <td>Abaied, Jamie L.</td>\n",
       "      <td>Assistant Professor</td>\n",
       "      <td>64000.0</td>\n",
       "      <td>Department of Psychological Science</td>\n",
       "      <td>CAS</td>\n",
       "    </tr>\n",
       "    <tr>\n",
       "      <th>2</th>\n",
       "      <td>2012</td>\n",
       "      <td>Abaied, Jamie L.</td>\n",
       "      <td>Assistant Professor</td>\n",
       "      <td>65229.0</td>\n",
       "      <td>Department of Psychological Science</td>\n",
       "      <td>CAS</td>\n",
       "    </tr>\n",
       "    <tr>\n",
       "      <th>3</th>\n",
       "      <td>2013</td>\n",
       "      <td>Abaied, Jamie L.</td>\n",
       "      <td>Assistant Professor</td>\n",
       "      <td>66969.0</td>\n",
       "      <td>Department of Psychological Science</td>\n",
       "      <td>CAS</td>\n",
       "    </tr>\n",
       "    <tr>\n",
       "      <th>4</th>\n",
       "      <td>2014</td>\n",
       "      <td>Abaied, Jamie L.</td>\n",
       "      <td>Assistant Professor</td>\n",
       "      <td>68658.0</td>\n",
       "      <td>Department of Psychological Science</td>\n",
       "      <td>CAS</td>\n",
       "    </tr>\n",
       "    <tr>\n",
       "      <th>...</th>\n",
       "      <td>...</td>\n",
       "      <td>...</td>\n",
       "      <td>...</td>\n",
       "      <td>...</td>\n",
       "      <td>...</td>\n",
       "      <td>...</td>\n",
       "    </tr>\n",
       "    <tr>\n",
       "      <th>14465</th>\n",
       "      <td>2016</td>\n",
       "      <td>van der Vliet, Albert</td>\n",
       "      <td>Professor</td>\n",
       "      <td>163635.0</td>\n",
       "      <td>Department of Pathology&amp;Laboratory Medicine</td>\n",
       "      <td>COM</td>\n",
       "    </tr>\n",
       "    <tr>\n",
       "      <th>14466</th>\n",
       "      <td>2017</td>\n",
       "      <td>van der Vliet, Albert</td>\n",
       "      <td>Professor</td>\n",
       "      <td>175294.0</td>\n",
       "      <td>Department of Pathology&amp;Laboratory Medicine</td>\n",
       "      <td>COM</td>\n",
       "    </tr>\n",
       "    <tr>\n",
       "      <th>14467</th>\n",
       "      <td>2018</td>\n",
       "      <td>van der Vliet, Albert</td>\n",
       "      <td>Professor</td>\n",
       "      <td>191000.0</td>\n",
       "      <td>Department of Pathology&amp;Laboratory Medicine</td>\n",
       "      <td>COM</td>\n",
       "    </tr>\n",
       "    <tr>\n",
       "      <th>14468</th>\n",
       "      <td>2019</td>\n",
       "      <td>van der Vliet, Albert</td>\n",
       "      <td>Professor</td>\n",
       "      <td>196000.0</td>\n",
       "      <td>Department of Pathology&amp;Laboratory Medicine</td>\n",
       "      <td>COM</td>\n",
       "    </tr>\n",
       "    <tr>\n",
       "      <th>14469</th>\n",
       "      <td>2020</td>\n",
       "      <td>van der Vliet, Albert</td>\n",
       "      <td>Professor</td>\n",
       "      <td>186200.0</td>\n",
       "      <td>Department of Pathology&amp;Laboratory Medicine</td>\n",
       "      <td>COM</td>\n",
       "    </tr>\n",
       "  </tbody>\n",
       "</table>\n",
       "<p>14470 rows × 6 columns</p>\n",
       "</div>"
      ],
      "text/plain": [
       "       Year                   Name    Primary Job Title  Base Pay  \\\n",
       "0      2010       Abaied, Jamie L.  Assistant Professor   64000.0   \n",
       "1      2011       Abaied, Jamie L.  Assistant Professor   64000.0   \n",
       "2      2012       Abaied, Jamie L.  Assistant Professor   65229.0   \n",
       "3      2013       Abaied, Jamie L.  Assistant Professor   66969.0   \n",
       "4      2014       Abaied, Jamie L.  Assistant Professor   68658.0   \n",
       "...     ...                    ...                  ...       ...   \n",
       "14465  2016  van der Vliet, Albert            Professor  163635.0   \n",
       "14466  2017  van der Vliet, Albert            Professor  175294.0   \n",
       "14467  2018  van der Vliet, Albert            Professor  191000.0   \n",
       "14468  2019  van der Vliet, Albert            Professor  196000.0   \n",
       "14469  2020  van der Vliet, Albert            Professor  186200.0   \n",
       "\n",
       "                                        Department College  \n",
       "0              Department of Psychological Science     CAS  \n",
       "1              Department of Psychological Science     CAS  \n",
       "2              Department of Psychological Science     CAS  \n",
       "3              Department of Psychological Science     CAS  \n",
       "4              Department of Psychological Science     CAS  \n",
       "...                                            ...     ...  \n",
       "14465  Department of Pathology&Laboratory Medicine     COM  \n",
       "14466  Department of Pathology&Laboratory Medicine     COM  \n",
       "14467  Department of Pathology&Laboratory Medicine     COM  \n",
       "14468  Department of Pathology&Laboratory Medicine     COM  \n",
       "14469  Department of Pathology&Laboratory Medicine     COM  \n",
       "\n",
       "[14470 rows x 6 columns]"
      ]
     },
     "execution_count": 3,
     "metadata": {},
     "output_type": "execute_result"
    }
   ],
   "source": [
    "data"
   ]
  },
  {
   "cell_type": "code",
   "execution_count": 4,
   "id": "4afd5be9",
   "metadata": {},
   "outputs": [
    {
     "name": "stdout",
     "output_type": "stream",
     "text": [
      "<class 'pandas.core.frame.DataFrame'>\n",
      "RangeIndex: 14470 entries, 0 to 14469\n",
      "Data columns (total 6 columns):\n",
      " #   Column             Non-Null Count  Dtype  \n",
      "---  ------             --------------  -----  \n",
      " 0   Year               14470 non-null  int64  \n",
      " 1   Name               14470 non-null  object \n",
      " 2   Primary Job Title  14470 non-null  object \n",
      " 3   Base Pay           14470 non-null  float64\n",
      " 4   Department         14470 non-null  object \n",
      " 5   College            14470 non-null  object \n",
      "dtypes: float64(1), int64(1), object(4)\n",
      "memory usage: 678.4+ KB\n"
     ]
    }
   ],
   "source": [
    "data.info()"
   ]
  },
  {
   "cell_type": "markdown",
   "id": "19c0d853",
   "metadata": {},
   "source": [
    "## 1.PREPROCESSING"
   ]
  },
  {
   "cell_type": "code",
   "execution_count": 6,
   "id": "ae8fc132",
   "metadata": {},
   "outputs": [],
   "source": [
    "def preprocess_inputs(df):\n",
    "    df = df.copy()\n",
    "    \n",
    "    # Drop Name column\n",
    "    df = df.drop('Name', axis=1)\n",
    "    \n",
    "    # Shuffle the data\n",
    "    df = df.sample(frac=1.0).reset_index(drop=True)\n",
    "    \n",
    "    # Split df into X and y\n",
    "    y = df['Base Pay']\n",
    "    X = df.drop('Base Pay', axis=1)\n",
    "    \n",
    "    return X, y"
   ]
  },
  {
   "cell_type": "code",
   "execution_count": 7,
   "id": "5862ce0f",
   "metadata": {},
   "outputs": [],
   "source": [
    "X, y = preprocess_inputs(data)"
   ]
  },
  {
   "cell_type": "code",
   "execution_count": 8,
   "id": "f1787c20",
   "metadata": {},
   "outputs": [
    {
     "name": "stdout",
     "output_type": "stream",
     "text": [
      "(14470, 4)\n",
      "(14470,)\n"
     ]
    }
   ],
   "source": [
    "print(X.shape)\n",
    "print(y.shape)"
   ]
  },
  {
   "cell_type": "markdown",
   "id": "56b4ec75",
   "metadata": {},
   "source": [
    "## 2.BUILDING PIPELINE"
   ]
  },
  {
   "cell_type": "code",
   "execution_count": 10,
   "id": "a38632ad",
   "metadata": {},
   "outputs": [],
   "source": [
    "def build_pipeline(regressor):\n",
    "    \n",
    "    nominal_transformer = Pipeline(steps=[\n",
    "        ('onehot', OneHotEncoder(sparse=False, handle_unknown='ignore'))\n",
    "    ])\n",
    "    \n",
    "    preprocessor = ColumnTransformer(transformers=[\n",
    "        ('nominal', nominal_transformer, ['Primary Job Title', 'Department', 'College'])\n",
    "    ], remainder='passthrough')\n",
    "    \n",
    "    model = Pipeline(steps=[\n",
    "        ('preprocessor', preprocessor),\n",
    "        ('scaler', StandardScaler()),\n",
    "        ('regressor', regressor)\n",
    "    ])\n",
    "    \n",
    "    return model"
   ]
  },
  {
   "cell_type": "code",
   "execution_count": 11,
   "id": "f888787e",
   "metadata": {},
   "outputs": [],
   "source": [
    "models = {\n",
    "    \"Linear Regression (Ridge)\": build_pipeline(Ridge()),\n",
    "    \"            Decision Tree\": build_pipeline(DecisionTreeRegressor()),\n",
    "    \"           Neural Network\": build_pipeline(MLPRegressor()),\n",
    "    \"            Random Forest\": build_pipeline(RandomForestRegressor()),\n",
    "    \"        Gradient Boosting\": build_pipeline(GradientBoostingRegressor())\n",
    "}"
   ]
  },
  {
   "cell_type": "markdown",
   "id": "bfdd1552",
   "metadata": {},
   "source": [
    "## 3. Model Selection (K-Fold CV)"
   ]
  },
  {
   "cell_type": "code",
   "execution_count": 15,
   "id": "db4a4887",
   "metadata": {},
   "outputs": [],
   "source": [
    "def evaluate_model(model, X, y):\n",
    "    \n",
    "    kf = KFold(n_splits=10)\n",
    "    rmses = []\n",
    "    r2s = []\n",
    "    \n",
    "    for train_idx, test_idx in kf.split(X):\n",
    "        # Fit model\n",
    "        model.fit(X.iloc[train_idx, :], y.iloc[train_idx])\n",
    "        \n",
    "        # Make predictions\n",
    "        pred = model.predict(X.iloc[test_idx, :])\n",
    "        \n",
    "        # Calculate RMSE\n",
    "        rmse = np.sqrt(np.mean((y.iloc[test_idx] - pred)**2))\n",
    "        rmses.append(rmse)\n",
    "        \n",
    "        # Calculate R^2\n",
    "        r2 = 1 - (np.sum((y.iloc[test_idx] - pred)**2) / np.sum((y.iloc[test_idx] - y.iloc[test_idx].mean())**2))\n",
    "        r2s.append(r2)\n",
    "        \n",
    "    # Return average RMSE and R^2\n",
    "    return np.mean(rmses), np.mean(r2s)"
   ]
  },
  {
   "cell_type": "code",
   "execution_count": 16,
   "id": "c61426b1",
   "metadata": {},
   "outputs": [
    {
     "name": "stdout",
     "output_type": "stream",
     "text": [
      "Linear Regression (Ridge) RMSE: 28342.84\n",
      "            Decision Tree RMSE: 29972.83\n",
      "           Neural Network RMSE: 29827.74\n",
      "            Random Forest RMSE: 28767.91\n",
      "        Gradient Boosting RMSE: 31504.55\n"
     ]
    }
   ],
   "source": [
    "for name, model in models.items():\n",
    "    print(name + \" RMSE: {:.2f}\".format(evaluate_model(model, X, y)[0]))"
   ]
  },
  {
   "cell_type": "code",
   "execution_count": null,
   "id": "78d93cda",
   "metadata": {},
   "outputs": [
    {
     "name": "stdout",
     "output_type": "stream",
     "text": [
      "Linear Regression (Ridge) R^2: 0.63940\n",
      "            Decision Tree R^2: 0.59583\n",
      "           Neural Network R^2: 0.60062\n",
      "            Random Forest R^2: 0.62931\n"
     ]
    }
   ],
   "source": [
    "for name, model in models.items():\n",
    "    print(name + \" R^2: {:.5f}\".format(evaluate_model(model, X, y)[1]))"
   ]
  }
 ],
 "metadata": {
  "kernelspec": {
   "display_name": "Python 3 (ipykernel)",
   "language": "python",
   "name": "python3"
  },
  "language_info": {
   "codemirror_mode": {
    "name": "ipython",
    "version": 3
   },
   "file_extension": ".py",
   "mimetype": "text/x-python",
   "name": "python",
   "nbconvert_exporter": "python",
   "pygments_lexer": "ipython3",
   "version": "3.9.12"
  }
 },
 "nbformat": 4,
 "nbformat_minor": 5
}
